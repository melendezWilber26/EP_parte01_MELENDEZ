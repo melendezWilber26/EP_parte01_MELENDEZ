{
 "cells": [
  {
   "cell_type": "code",
   "execution_count": null,
   "id": "f9ae3ba4",
   "metadata": {},
   "outputs": [],
   "source": [
    "num1 = int(input(\"Ingrese el número A: \"))\n",
    "num2 = int(input(\"Ingrese el número B: \"))\n",
    "num3 = int(input(\"Ingrese el número C: \"))\n",
    "\n",
    "# Verificar el orden de los números y realizar el intercambio si es necesario\n",
    "if num1 > num2:\n",
    "    num1, num2 = num2, num1\n",
    "if num2 > num3:\n",
    "    num2, num3 = num3, num2\n",
    "if num1 > num2:\n",
    "    num1, num2 = num2, num1\n",
    "\n",
    "# Imprimir los números ordenados de menor a mayor\n",
    "print(\"DATOS DE ENTRADA: \", num1, num2, num3)\n",
    "print(\"DATOS DE SALIDA :\" ,num1, num2, num3)"
   ]
  }
 ],
 "metadata": {
  "kernelspec": {
   "display_name": "Python 3 (ipykernel)",
   "language": "python",
   "name": "python3"
  },
  "language_info": {
   "codemirror_mode": {
    "name": "ipython",
    "version": 3
   },
   "file_extension": ".py",
   "mimetype": "text/x-python",
   "name": "python",
   "nbconvert_exporter": "python",
   "pygments_lexer": "ipython3",
   "version": "3.9.12"
  }
 },
 "nbformat": 4,
 "nbformat_minor": 5
}
