{
 "cells": [
  {
   "cell_type": "code",
   "execution_count": 5,
   "id": "5e156961",
   "metadata": {},
   "outputs": [
    {
     "name": "stdout",
     "output_type": "stream",
     "text": [
      "Datos de entrada\n",
      "Tipo de bus: 1\n",
      "Distancia: 24\n",
      "Cantidad de personas: 15\n",
      "\n",
      "Datos de Salida\n",
      "Costo del pasaje por persona: 48.0\n",
      "Costo total del viaje: 720.0\n"
     ]
    }
   ],
   "source": [
    "def calcular_costo_viaje(tipo_bus, personas, distancia):\n",
    "    # Definir los precios por kilómetro por persona para cada tipo de bus\n",
    "    precios = {\n",
    "        \"Bus tipo 1\": 2,\n",
    "        \"Bus tipo 2\": 2.5,\n",
    "        \"Bus tipo 3\": 3\n",
    "    }\n",
    "    \n",
    "    # Definir la capacidad máxima de cada tipo de bus\n",
    "    capacidades = {\n",
    "        \"Bus tipo 1\": 20,\n",
    "        \"Bus tipo 2\": 25,\n",
    "        \"Bus tipo 3\": 30\n",
    "    }\n",
    "    \n",
    "    # Verificar si la cantidad de personas excede la capacidad máxima del tipo de bus seleccionado\n",
    "    if personas > capacidades[tipo_bus]:\n",
    "        return None, None  # Return None values for both importe_por_persona and costo_total\n",
    "    \n",
    "    # Calcular el importe a pagar por persona\n",
    "    importe_por_persona = precios[tipo_bus] * distancia\n",
    "    \n",
    "    # Calcular el costo total del viaje\n",
    "    costo_total = importe_por_persona * personas\n",
    "    \n",
    "    return importe_por_persona, costo_total\n",
    "\n",
    "# Ejemplo de uso\n",
    "print(\"Datos de entrada\")\n",
    "tipo_bus = input(\"Tipo de bus: \")\n",
    "distancia = float(input(\"Distancia: \"))\n",
    "personas = int(input(\"Cantidad de personas: \"))\n",
    "\n",
    "tipo_bus = \"Bus tipo \" + tipo_bus.upper()\n",
    "\n",
    "importe_por_persona, costo_total = calcular_costo_viaje(tipo_bus, personas, distancia)\n",
    "\n",
    "if importe_por_persona is None:\n",
    "    print(\"Datos de Salida\")\n",
    "    print(\"Cantidad no permitida\")\n",
    "else:\n",
    "    print(\"\\nDatos de Salida\")\n",
    "    print(f\"Costo del pasaje por persona: {importe_por_persona}\")\n",
    "    print(f\"Costo total del viaje: {costo_total}\")"
   ]
  },
  {
   "cell_type": "code",
   "execution_count": null,
   "id": "0e02f4d3",
   "metadata": {},
   "outputs": [],
   "source": []
  },
  {
   "cell_type": "code",
   "execution_count": null,
   "id": "bd1d1079",
   "metadata": {},
   "outputs": [],
   "source": []
  }
 ],
 "metadata": {
  "kernelspec": {
   "display_name": "Python 3 (ipykernel)",
   "language": "python",
   "name": "python3"
  },
  "language_info": {
   "codemirror_mode": {
    "name": "ipython",
    "version": 3
   },
   "file_extension": ".py",
   "mimetype": "text/x-python",
   "name": "python",
   "nbconvert_exporter": "python",
   "pygments_lexer": "ipython3",
   "version": "3.9.12"
  }
 },
 "nbformat": 4,
 "nbformat_minor": 5
}
